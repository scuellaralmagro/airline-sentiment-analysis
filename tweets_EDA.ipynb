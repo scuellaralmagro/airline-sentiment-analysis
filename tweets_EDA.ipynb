{
 "cells": [
  {
   "attachments": {},
   "cell_type": "markdown",
   "metadata": {},
   "source": [
    "# US Airline Sentiment Analysis - Exploratory Data Analysis"
   ]
  },
  {
   "attachments": {},
   "cell_type": "markdown",
   "metadata": {},
   "source": [
    "In this notebook, we will be conducting an Exploratory Data Analysis on a dataset containing tweets about various US airlines. This data was scraped from Febraury 2015 and contributors were asked to first classify positive, negative, and neutral tweets, followed by categorizing negative reasons (such as \"late flight\" or \"rude service\").\n",
    "\n",
    "- **Author:** [Sergio Cuéllar](https://www.linkedin.com/in/sergiocuellaralmagro/)\n",
    "- **Date:** February 2023\n",
    "- **Dataset:** [Kaggle](https://www.kaggle.com/crowdflower/twitter-airline-sentiment)\n",
    "- **Python Version:** 3.11.2"
   ]
  },
  {
   "attachments": {},
   "cell_type": "markdown",
   "metadata": {},
   "source": [
    "## Objectives"
   ]
  },
  {
   "attachments": {},
   "cell_type": "markdown",
   "metadata": {},
   "source": [
    "These are the main objectives of this exploratory data analysis:\n",
    "- To gain an understanding of the characteristics of the dataset containing tweets about various US airlines.\n",
    "- To explore the distribution of sentiment labels (positive, negative, and neutral) assigned to the tweets and identify any patterns or trends in the data.\n",
    "- To analyze the negative reasons (such as \"late flight\" or \"rude service\") given by contributors and understand the most common reasons for negative sentiment.\n",
    "- To identify any outliers, missing data or inconsistencies in the dataset that may need to be addressed before further analysis.\n",
    "- To use various statistical and visualization techniques to summarize and present the findings from the analysis.\n",
    "\n",
    "Overall, the goal of the EDA is to gain insights into the data and use those insights to inform further analysis, modeling and decision making.\n",
    "\n",
    "---"
   ]
  }
 ],
 "metadata": {
  "kernelspec": {
   "display_name": "Python 3",
   "language": "python",
   "name": "python3"
  },
  "language_info": {
   "name": "python",
   "version": "3.11.2"
  },
  "orig_nbformat": 4,
  "vscode": {
   "interpreter": {
    "hash": "f8c55d93b81ca5c2a9362441948e92c5bcbb8d484cefc07ba8b60d0a089c1469"
   }
  }
 },
 "nbformat": 4,
 "nbformat_minor": 2
}
